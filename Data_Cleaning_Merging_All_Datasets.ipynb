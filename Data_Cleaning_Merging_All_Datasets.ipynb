{
 "cells": [
  {
   "cell_type": "code",
   "execution_count": 1,
   "id": "117a64d2",
   "metadata": {
    "ExecuteTime": {
     "end_time": "2024-02-09T18:22:22.737479Z",
     "start_time": "2024-02-09T18:22:19.927808Z"
    }
   },
   "outputs": [],
   "source": [
    "import math\n",
    "import numpy as np\n",
    "import pandas as pd\n",
    "import datetime as dt\n",
    "from datetime import datetime, timedelta\n",
    "import matplotlib.pyplot as plt\n",
    "import seaborn as sns\n",
    "import re\n",
    "plt.style.use('dark_background')\n",
    "pd.set_option('display.max_columns', None)\n",
    "pd.set_option('display.max_rows', 200)\n",
    "import difflib"
   ]
  },
  {
   "cell_type": "code",
   "execution_count": 2,
   "id": "08f665fb",
   "metadata": {
    "ExecuteTime": {
     "end_time": "2024-02-09T18:22:38.701778Z",
     "start_time": "2024-02-09T18:22:38.639917Z"
    }
   },
   "outputs": [],
   "source": [
    "# Remove top and bottom columns\n",
    "# Fill out State column\n",
    "# Remove commas from all numbers and turn to int dtype\n",
    "\n",
    "def clean_df(file):\n",
    "    cur_df = pd.read_excel(file)\n",
    "    cur_df\n",
    "\n",
    "    for i in cur_df.index:\n",
    "        if cur_df.loc[i, :].isna().sum()>10:\n",
    "            cur_df.drop(index=i, axis=0, inplace=True)\n",
    "\n",
    "    cur_df.reset_index(inplace=True)\n",
    "    cur_df.drop(\"index\", axis=1, inplace=True)    \n",
    "    cur_df.iloc[0, :] = cur_df.iloc[0, :].str.replace(\"-\", \" \", regex=True)\n",
    "    cur_df.iloc[0, :] = cur_df.iloc[0, :].str.replace(\" +\", \"_\", regex=True)\n",
    "    cur_df.iloc[0, :] = cur_df.iloc[0, :].str.replace(\"\\n\", \"_\", regex=True)\n",
    "    cur_df.columns = cur_df.iloc[0, :].str.replace(\"[0-9]\", \"\", regex=True)\n",
    "    cur_df.drop(0, axis=0, inplace=True)\n",
    "\n",
    "\n",
    "    state = list(cur_df[\"State\"])\n",
    "    for i in range(len(state)):\n",
    "        if type(state[i])==float:\n",
    "            state[i] = state[i-1]\n",
    "    cur_df[\"State\"] = state\n",
    "    cur_df[\"State\"] = cur_df[\"State\"].str.replace(\"[^a-z A-Z]\", \"\", regex=True)\n",
    "    cur_df[cur_df.columns[1]] = cur_df[cur_df.columns[1]].str.replace(\"[0-9]\", \"\", regex=True)\n",
    "    \n",
    "    cur_df.rename(columns={\"Violent\\ncrime\":\"Violent_crime\", \"Property\\ncrime\": \"Property_crime\"}, \n",
    "                 inplace=True)\n",
    "    cur_df.rename(columns={\"Violent crime\":\"Violent_crime\", \"Property crime\": \"Property_crime\"}, \n",
    "                 inplace=True)\n",
    "    \n",
    "    cur_df[\"Year\"] = cur_df[\"Year\"]=np.repeat(int(file[14:18]), len(cur_df))\n",
    "\n",
    "    return cur_df"
   ]
  },
  {
   "cell_type": "code",
   "execution_count": 3,
   "id": "d779b424",
   "metadata": {
    "ExecuteTime": {
     "end_time": "2023-09-06T05:04:34.509283Z",
     "start_time": "2023-09-06T05:04:34.494752Z"
    }
   },
   "outputs": [],
   "source": [
    "# Inefficient \n",
    "\n",
    "# for i in cur_df.index:\n",
    "#     if cur_df.isna().loc[i, \"State\"]==1:\n",
    "#         cur_df.loc[i, \"State\"] = cur_df.loc[i-1, \"State\"]"
   ]
  },
  {
   "cell_type": "code",
   "execution_count": 3,
   "id": "fc43640e",
   "metadata": {
    "ExecuteTime": {
     "end_time": "2024-02-09T18:24:04.300355Z",
     "start_time": "2024-02-09T18:23:34.992315Z"
    }
   },
   "outputs": [],
   "source": [
    "# in the future use os.listdir to systematically load files. Place all necessary files into the same\n",
    "# sub directory.\n",
    "df_2005 = clean_df(\"State_by_City_2005.xls\")\n",
    "df_2006 = clean_df(\"State_by_City_2006.xls\")\n",
    "df_2007 = clean_df(\"State_by_City_2007.xls\")\n",
    "df_2008 = clean_df(\"State_by_City_2008.xls\")\n",
    "df_2009 = clean_df(\"State_by_City_2009.xls\")\n",
    "df_2010 = clean_df(\"State_by_City_2010.xls\")\n",
    "df_2011 = clean_df(\"State_by_City_2011.xls\")\n",
    "df_2012 = clean_df(\"State_by_City_2012.xls\")\n",
    "df_2013 = clean_df(\"State_by_City_2013.xls\")\n",
    "df_2014 = clean_df(\"State_by_City_2014.xls\")\n",
    "df_2015 = clean_df(\"State_by_City_2015.xls\")\n",
    "# on the FBI crime database from 2005-2019 every by-city info was listed as Table 8 except 2016, \n",
    "# where it was listed as Table 6 for some reason.\n",
    "df_2016 = clean_df(\"State_by_City_2016.xls\")\n",
    "df_2017 = clean_df(\"State_by_City_2017.xls\")\n",
    "df_2018 = clean_df(\"State_by_City_2018.xls\")\n",
    "df_2019 = clean_df(\"State_by_City_2019.xls\")"
   ]
  },
  {
   "cell_type": "code",
   "execution_count": 4,
   "id": "b052324a",
   "metadata": {
    "ExecuteTime": {
     "end_time": "2024-02-09T18:24:04.347854Z",
     "start_time": "2024-02-09T18:24:04.302375Z"
    }
   },
   "outputs": [],
   "source": [
    "df_2005_f = df_2005.loc[:, [\"Year\", \"State\", \"City\", \"Population\", \"Violent_crime\", \"Property_crime\"]]\n",
    "df_2006_f = df_2006.loc[:, [\"Year\", \"State\", \"City\", \"Population\", \"Violent_crime\", \"Property_crime\"]]\n",
    "df_2007_f = df_2007.loc[:, [\"Year\", \"State\", \"City\", \"Population\", \"Violent_crime\", \"Property_crime\"]]\n",
    "df_2008_f = df_2008.loc[:, [\"Year\", \"State\", \"City\", \"Population\", \"Violent_crime\", \"Property_crime\"]]\n",
    "df_2009_f = df_2009.loc[:, [\"Year\", \"State\", \"City\", \"Population\", \"Violent_crime\", \"Property_crime\"]]\n",
    "df_2010_f = df_2010.loc[:, [\"Year\", \"State\", \"City\", \"Population\", \"Violent_crime\", \"Property_crime\"]]\n",
    "df_2011_f = df_2011.loc[:, [\"Year\", \"State\", \"City\", \"Population\", \"Violent_crime\", \"Property_crime\"]]\n",
    "df_2012_f = df_2012.loc[:, [\"Year\", \"State\", \"City\", \"Population\", \"Violent_crime\", \"Property_crime\"]]\n",
    "df_2013_f = df_2013.loc[:, [\"Year\", \"State\", \"City\", \"Population\", \"Violent_crime\", \"Property_crime\"]]\n",
    "df_2014_f = df_2014.loc[:, [\"Year\", \"State\", \"City\", \"Population\", \"Violent_crime\", \"Property_crime\"]]\n",
    "df_2015_f = df_2015.loc[:, [\"Year\", \"State\", \"City\", \"Population\", \"Violent_crime\", \"Property_crime\"]]\n",
    "df_2016_f = df_2016.loc[:, [\"Year\", \"State\", \"City\", \"Population\", \"Violent_crime\", \"Property_crime\"]]\n",
    "df_2017_f = df_2017.loc[:, [\"Year\", \"State\", \"City\", \"Population\", \"Violent_crime\", \"Property_crime\"]]\n",
    "df_2018_f = df_2018.loc[:, [\"Year\", \"State\", \"City\", \"Population\", \"Violent_crime\", \"Property_crime\"]]\n",
    "df_2019_f = df_2019.loc[:, [\"Year\", \"State\", \"City\", \"Population\", \"Violent_crime\", \"Property_crime\"]]"
   ]
  },
  {
   "cell_type": "code",
   "execution_count": 5,
   "id": "7506c44d",
   "metadata": {
    "ExecuteTime": {
     "end_time": "2024-02-09T18:24:04.362949Z",
     "start_time": "2024-02-09T18:24:04.349852Z"
    }
   },
   "outputs": [],
   "source": [
    "def clean_df2(file):\n",
    "    cur_df = pd.read_excel(file)\n",
    "    cur_df[\"State\"] = \"\"\n",
    "    cur_df.replace({\" \": np.nan, \"-\": 0}, inplace=True)\n",
    "\n",
    "    for i in cur_df.index:\n",
    "        if cur_df.loc[i, :].isna().sum() > cur_df.shape[1]-3:\n",
    "            cur_df.loc[i, \"State\"] = cur_df.iloc[i, 0]\n",
    "\n",
    "    state = list(cur_df[\"State\"])\n",
    "    for i in range(len(state)):\n",
    "        if (state[i]==\"\") or (type(state[i])==float):\n",
    "            state[i]=state[i-1]\n",
    "    cur_df[\"State\"] = state\n",
    "\n",
    "    for i in cur_df.index:\n",
    "        if cur_df.loc[i, :].isna().sum()>10:\n",
    "            cur_df.drop(index=i, axis=0, inplace=True)\n",
    "\n",
    "    cur_df.reset_index(inplace=True)\n",
    "    cur_df.drop(\"index\", axis=1, inplace=True)\n",
    "    cur_df.iloc[0, :] = cur_df.iloc[0, :].str.replace(\"[^a-zA-Z]\", \"\", regex=True)\n",
    "    cur_df.columns = cur_df.iloc[0, :]\n",
    "\n",
    "    cur_df.drop(0, axis=0, inplace=True)\n",
    "    cur_df.rename(columns={\"City by state\": \"City\", cur_df.columns[-1]:\"State\"}, inplace=True)\n",
    "    cur_df[cur_df.columns[0]] = cur_df[cur_df.columns[0]].str.replace(\"[^a-zA-Z ]\", \"\", regex=True)\n",
    "    cur_df[\"State\"] = cur_df[\"State\"].str.replace(\"[^a-z A-Z]\", \"\", regex=True)\n",
    "    \n",
    "    cur_df[\"Year\"]=np.repeat(int(file[21:25]), len(cur_df))\n",
    "\n",
    "    return cur_df"
   ]
  },
  {
   "cell_type": "code",
   "execution_count": 6,
   "id": "fee1ca70",
   "metadata": {
    "ExecuteTime": {
     "end_time": "2024-02-09T18:24:24.758574Z",
     "start_time": "2024-02-09T18:24:04.364369Z"
    }
   },
   "outputs": [],
   "source": [
    "df_1999_o = clean_df2(\"State_by_City_o10000_1999.xls\")\n",
    "df_2000_o = clean_df2(\"State_by_City_o10000_2000.xls\")\n",
    "df_2001_o = clean_df2(\"State_by_City_o10000_2001.xls\")\n",
    "df_2001_u = clean_df2(\"State_by_City_u10000_2001.xls\")\n",
    "df_2002_o = clean_df2(\"State_by_City_o10000_2002.xls\")\n",
    "df_2002_u = clean_df2(\"State_by_City_u10000_2002.xls\")\n",
    "df_2003_o = clean_df2(\"State_by_City_o10000_2003.xls\")\n",
    "df_2003_u = clean_df2(\"State_by_City_u10000_2003.xls\")\n",
    "df_2004_o = clean_df2(\"State_by_City_o10000_2004.xls\")\n",
    "df_2004_u = clean_df2(\"State_by_City_u10000_2004.xls\")"
   ]
  },
  {
   "cell_type": "code",
   "execution_count": 7,
   "id": "9097cd2d",
   "metadata": {
    "ExecuteTime": {
     "end_time": "2024-02-09T18:24:24.804579Z",
     "start_time": "2024-02-09T18:24:24.760476Z"
    }
   },
   "outputs": [],
   "source": [
    "for df in [df_2001_o, df_2001_u, df_2002_o, df_2002_u, df_2003_o, df_2003_u, df_2004_o, df_2004_u]:\n",
    "    df.rename(columns={\"Citybystate\": \"City\"}, inplace=True)\n",
    "    df[\"Violent_crime\"] = \"\"\n",
    "    df[\"Property_crime\"] = \"\"\n",
    "    df[\"Violent_crime\"] = df.Murderandnonnegligentmanslaughter+df.Forciblerape+df.Robbery+df.Aggravatedassault\n",
    "    df[\"Property_crime\"] = df.Burglary+df.Larcenytheft+df.Motorvehicletheft"
   ]
  },
  {
   "cell_type": "code",
   "execution_count": 8,
   "id": "0ab6411d",
   "metadata": {
    "ExecuteTime": {
     "end_time": "2024-02-09T18:24:24.835329Z",
     "start_time": "2024-02-09T18:24:24.806451Z"
    }
   },
   "outputs": [],
   "source": [
    "df_2001_o_f = df_2001_o.loc[:, [\"Year\", \"State\", \"City\", \"Population\", \"Violent_crime\", \"Property_crime\"]]\n",
    "df_2001_u_f = df_2001_u.loc[:, [\"Year\", \"State\", \"City\", \"Population\", \"Violent_crime\", \"Property_crime\"]]\n",
    "df_2002_o_f = df_2002_o.loc[:, [\"Year\", \"State\", \"City\", \"Population\", \"Violent_crime\", \"Property_crime\"]]\n",
    "df_2002_u_f = df_2002_u.loc[:, [\"Year\", \"State\", \"City\", \"Population\", \"Violent_crime\", \"Property_crime\"]]\n",
    "df_2003_o_f = df_2003_o.loc[:, [\"Year\", \"State\", \"City\", \"Population\", \"Violent_crime\", \"Property_crime\"]]\n",
    "df_2003_u_f = df_2003_u.loc[:, [\"Year\", \"State\", \"City\", \"Population\", \"Violent_crime\", \"Property_crime\"]]\n",
    "df_2004_o_f = df_2004_o.loc[:, [\"Year\", \"State\", \"City\", \"Population\", \"Violent_crime\", \"Property_crime\"]]\n",
    "df_2004_u_f = df_2004_u.loc[:, [\"Year\", \"State\", \"City\", \"Population\", \"Violent_crime\", \"Property_crime\"]]"
   ]
  },
  {
   "cell_type": "code",
   "execution_count": 9,
   "id": "a56881ad",
   "metadata": {
    "ExecuteTime": {
     "end_time": "2024-02-09T18:24:24.851323Z",
     "start_time": "2024-02-09T18:24:24.837072Z"
    }
   },
   "outputs": [],
   "source": [
    "df_2001_f = pd.concat([df_2001_o_f, df_2001_u_f], axis=0)\n",
    "df_2002_f = pd.concat([df_2002_o_f, df_2002_u_f], axis=0)\n",
    "df_2003_f = pd.concat([df_2003_o_f, df_2003_u_f], axis=0)\n",
    "df_2004_f = pd.concat([df_2004_o_f, df_2004_u_f], axis=0)"
   ]
  },
  {
   "cell_type": "code",
   "execution_count": 10,
   "id": "ffc6c571",
   "metadata": {
    "ExecuteTime": {
     "end_time": "2024-02-09T18:24:24.912179Z",
     "start_time": "2024-02-09T18:24:24.853065Z"
    }
   },
   "outputs": [
    {
     "name": "stdout",
     "output_type": "stream",
     "text": [
      "0\n",
      "Year               0\n",
      "State              0\n",
      "City               0\n",
      "Population         0\n",
      "Violent_crime     21\n",
      "Property_crime     0\n",
      "dtype: int64\n",
      "0\n",
      "Year               0\n",
      "State              0\n",
      "City               0\n",
      "Population         0\n",
      "Violent_crime     18\n",
      "Property_crime     2\n",
      "dtype: int64\n",
      "0\n",
      "Year               0\n",
      "State              0\n",
      "City               0\n",
      "Population        13\n",
      "Violent_crime     19\n",
      "Property_crime     0\n",
      "dtype: int64\n",
      "0\n",
      "Year               0\n",
      "State              0\n",
      "City               1\n",
      "Population         2\n",
      "Violent_crime     19\n",
      "Property_crime     1\n",
      "dtype: int64\n",
      "0\n",
      "Year               0\n",
      "State              0\n",
      "City               0\n",
      "Population         1\n",
      "Violent_crime     20\n",
      "Property_crime     4\n",
      "dtype: int64\n",
      "0\n",
      "Year              0\n",
      "State             0\n",
      "City              0\n",
      "Population        1\n",
      "Violent_crime     8\n",
      "Property_crime    0\n",
      "dtype: int64\n",
      "0\n",
      "Year               0\n",
      "State              0\n",
      "City               0\n",
      "Population         0\n",
      "Violent_crime     22\n",
      "Property_crime     2\n",
      "dtype: int64\n",
      "0\n",
      "Year              0\n",
      "State             0\n",
      "City              0\n",
      "Population        2\n",
      "Violent_crime     8\n",
      "Property_crime    0\n",
      "dtype: int64\n",
      "0\n",
      "Year               0\n",
      "State              0\n",
      "City               0\n",
      "Population         4\n",
      "Violent_crime     29\n",
      "Property_crime     5\n",
      "dtype: int64\n",
      "0\n",
      "Year                0\n",
      "State               0\n",
      "City                0\n",
      "Population          1\n",
      "Violent_crime     236\n",
      "Property_crime     14\n",
      "dtype: int64\n",
      "0\n",
      "Year                0\n",
      "State               0\n",
      "City                0\n",
      "Population          2\n",
      "Violen"
     ]
    },
    {
     "data": {
      "text/html": [
       "<b>limit_output extension: Maximum message size of 1500 exceeded with 3279 characters</b>"
      ]
     },
     "metadata": {},
     "output_type": "display_data"
    }
   ],
   "source": [
    "for df in [df_2001_o_f, df_2001_u_f, df_2002_o_f, df_2002_u_f, df_2003_o_f, df_2003_u_f, df_2004_o_f,\n",
    "           df_2004_u_f, df_2005_f, df_2006_f, df_2007_f, df_2008_f, df_2009_f, df_2010_f, df_2011_f, df_2012_f, \n",
    "           df_2013_f,df_2014_f, df_2015_f, df_2016_f, df_2017_f, df_2018_f, df_2019_f]:\n",
    "    print(df.isnull().sum())"
   ]
  },
  {
   "cell_type": "code",
   "execution_count": 11,
   "id": "caa37b42",
   "metadata": {
    "ExecuteTime": {
     "end_time": "2024-02-09T18:24:48.538357Z",
     "start_time": "2024-02-09T18:24:48.488251Z"
    }
   },
   "outputs": [],
   "source": [
    "df_f = pd.concat([df_2001_f, df_2002_f, df_2003_f, df_2004_f, df_2005_f, df_2006_f, df_2007_f, df_2008_f,\n",
    "                df_2009_f, df_2010_f, df_2011_f, df_2012_f, df_2013_f, df_2014_f, df_2015_f, df_2016_f,\n",
    "                df_2017_f, df_2018_f, df_2019_f], axis=0)\n",
    "df_f.reset_index(inplace=True)\n",
    "df_f.drop(\"index\", axis=1, inplace=True)"
   ]
  },
  {
   "cell_type": "code",
   "execution_count": 12,
   "id": "e0dfaa3f",
   "metadata": {
    "ExecuteTime": {
     "end_time": "2024-02-09T18:24:51.672749Z",
     "start_time": "2024-02-09T18:24:51.605940Z"
    },
    "scrolled": false
   },
   "outputs": [
    {
     "name": "stdout",
     "output_type": "stream",
     "text": [
      "<class 'pandas.core.frame.DataFrame'>\n",
      "RangeIndex: 166852 entries, 0 to 166851\n",
      "Data columns (total 6 columns):\n",
      " #   Column          Non-Null Count   Dtype \n",
      "---  ------          --------------   ----- \n",
      " 0   Year            166852 non-null  int32 \n",
      " 1   State           166852 non-null  object\n",
      " 2   City            166851 non-null  object\n",
      " 3   Population      166801 non-null  object\n",
      " 4   Violent_crime   164506 non-null  object\n",
      " 5   Property_crime  166579 non-null  object\n",
      "dtypes: int32(1), object(5)\n",
      "memory usage: 7.0+ MB\n"
     ]
    }
   ],
   "source": [
    "# there are different data types in columns that are labelled object \n",
    "df_f.info()"
   ]
  },
  {
   "cell_type": "code",
   "execution_count": 20,
   "id": "14d4d664",
   "metadata": {
    "ExecuteTime": {
     "end_time": "2024-02-09T18:26:06.880829Z",
     "start_time": "2024-02-09T18:26:06.842577Z"
    }
   },
   "outputs": [
    {
     "data": {
      "text/plain": [
       "0\n",
       "Year                 0\n",
       "State                0\n",
       "City                 1\n",
       "Population          51\n",
       "Violent_crime     2346\n",
       "Property_crime     273\n",
       "dtype: int64"
      ]
     },
     "execution_count": 20,
     "metadata": {},
     "output_type": "execute_result"
    }
   ],
   "source": [
    "df_f.isna().sum()"
   ]
  },
  {
   "cell_type": "code",
   "execution_count": 21,
   "id": "7fdc84a7",
   "metadata": {
    "ExecuteTime": {
     "end_time": "2024-02-09T18:26:14.705197Z",
     "start_time": "2024-02-09T18:26:12.998419Z"
    }
   },
   "outputs": [
    {
     "name": "stdout",
     "output_type": "stream",
     "text": [
      "0\n",
      "Year                       2002\n",
      "State             MASSACHUSETTS\n",
      "City                        NaN\n",
      "Population             KNOWN TO\n",
      "Violent_crime               NaN\n",
      "Property_crime              NaN\n",
      "Name: 11329, dtype: object\n"
     ]
    },
    {
     "data": {
      "text/html": [
       "<div>\n",
       "<style scoped>\n",
       "    .dataframe tbody tr th:only-of-type {\n",
       "        vertical-align: middle;\n",
       "    }\n",
       "\n",
       "    .dataframe tbody tr th {\n",
       "        vertical-align: top;\n",
       "    }\n",
       "\n",
       "    .dataframe thead th {\n",
       "        text-align: right;\n",
       "    }\n",
       "</style>\n",
       "<table border=\"1\" class=\"dataframe\">\n",
       "  <thead>\n",
       "    <tr style=\"text-align: right;\">\n",
       "      <th></th>\n",
       "      <th>Table 8A</th>\n",
       "      <th>Unnamed: 1</th>\n",
       "      <th>Unnamed: 2</th>\n",
       "      <th>Unnamed: 3</th>\n",
       "      <th>Unnamed: 4</th>\n",
       "      <th>Unnamed: 5</th>\n",
       "      <th>Unnamed: 6</th>\n",
       "      <th>Unnamed: 7</th>\n",
       "      <th>Unnamed: 8</th>\n",
       "      <th>Unnamed: 9</th>\n",
       "      <th>Unnamed: 10</th>\n",
       "      <th>Unnamed: 11</th>\n",
       "    </tr>\n",
       "  </thead>\n",
       "  <tbody>\n",
       "    <tr>\n",
       "      <th>1348</th>\n",
       "      <td>Boylston</td>\n",
       "      <td>4058</td>\n",
       "      <td>34</td>\n",
       "      <td>34</td>\n",
       "      <td>0</td>\n",
       "      <td>0</td>\n",
       "      <td>0</td>\n",
       "      <td>0</td>\n",
       "      <td>11</td>\n",
       "      <td>23</td>\n",
       "      <td>0</td>\n",
       "      <td>0</td>\n",
       "    </tr>\n",
       "    <tr>\n",
       "      <th>1349</th>\n",
       "      <td>NaN</td>\n",
       "      <td>KNOWN TO</td>\n",
       "      <td>1902</td>\n",
       "      <td>1902</td>\n",
       "      <td>ER 10,000</td>\n",
       "      <td>AND OVER</td>\n",
       "      <td>IN POPUL</td>\n",
       "      <td>NaN</td>\n",
       "      <td>1902</td>\n",
       "      <td>NaN</td>\n",
       "      <td>NaN</td>\n",
       "      <td>0</td>\n",
       "    </tr>\n",
       "    <tr>\n",
       "      <th>1350</th>\n",
       "      <td>Charlemont</td>\n",
       " "
      ],
      "text/plain": [
       "        Table 8A Unnamed: 1 Unnamed: 2 Unnamed: 3 Unnamed: 4 Unnamed: 5  \\\n",
       "1348    Boylston       4058         34         34          0          0   \n",
       "1349         NaN   KNOWN TO       1902       1902  ER 10,000   AND OVER   \n",
       "1350  Charlemont       1375          9          9          0          0   \n",
       "1351     Chatham       6707        161        161          0          2   \n",
       "1352    Cheshire       3443         12         12          0          0   \n",
       "1353    Cohasset       7351         88         88          0          0   \n",
       "1354  Cummington        990          4          4          0          0   \n",
       "1355      Dalton       6978        100        100          0          0   \n",
       "\n",
       "     Unnamed: 6 Unnamed: 7 Unnamed: 8 Unnamed: 9 Unnamed: 10 Unnamed: 11  \n",
       "1348          0          0         11         23           0           0  \n",
       "1349   IN POPUL        NaN       1902        NaN         NaN           0  \n",
       "1350          0          1          1          7           0           0  \n",
       "1351          1          7         23        124           4           0  \n",
       "1352          0          0          6          6           0           0  \n",
       "1353          1         13         21         48           5           0  \n",
       "1354          0          0          1          3           0           0  \n",
       "135"
      ]
     },
     "execution_count": 21,
     "metadata": {},
     "output_type": "execute_result"
    },
    {
     "data": {
      "text/html": [
       "<b>limit_output extension: Maximum message size of 1500 exceeded with 3010 characters</b>"
      ]
     },
     "metadata": {},
     "output_type": "display_data"
    }
   ],
   "source": [
    "# there is a nan in one of the City cells\n",
    "\n",
    "for i in range(len(df_f)):\n",
    "    if type(df_f.loc[i, \"City\"])==float:\n",
    "        print(df_f.loc[i, :])\n",
    "\n",
    "df_2002_u_f[df_2002_u_f[\"State\"]==\"MASSACHUSETTS\"].head(140)\n",
    "\n",
    "# issue stems from this section of the original loaded excel file. \n",
    "cur_df = pd.read_excel(\"State_by_City_u10000_2002.xls\")\n",
    "cur_df[cur_df[\"Unnamed: 1\"]==\"KNOWN TO\"]\n",
    "cur_df.loc[1348:1355, :]"
   ]
  },
  {
   "cell_type": "code",
   "execution_count": 22,
   "id": "c88edfbf",
   "metadata": {
    "ExecuteTime": {
     "end_time": "2024-02-09T18:26:20.601510Z",
     "start_time": "2024-02-09T18:26:20.514743Z"
    }
   },
   "outputs": [],
   "source": [
    "df_f = df_f.drop(11329, axis=0).reset_index()\n",
    "df_f.drop(\"index\", axis=1, inplace=True)"
   ]
  },
  {
   "cell_type": "code",
   "execution_count": 24,
   "id": "ed47c945",
   "metadata": {
    "ExecuteTime": {
     "end_time": "2024-02-09T18:27:48.487405Z",
     "start_time": "2024-02-09T18:27:25.508209Z"
    },
    "scrolled": true
   },
   "outputs": [
    {
     "name": "stdout",
     "output_type": "stream",
     "text": [
      "0\n",
      "Year                  2001\n",
      "State             ILLINOIS\n",
      "City                Aurora\n",
      "Population          143715\n",
      "Violent_crime          NaN\n",
      "Property_crime        5092\n",
      "Name: 764, dtype: object\n",
      "0\n",
      "Year                  2001\n",
      "State             ILLINOIS\n",
      "City               Chicago\n",
      "Population         2910709\n",
      "Violent_crime          NaN\n",
      "Property_crime      151156\n",
      "Name: 765, dtype: object\n",
      "0\n",
      "Year                  2001\n",
      "State             ILLINOIS\n",
      "City                Joliet\n",
      "Population          106760\n",
      "Violent_crime          NaN\n",
      "Property_crime        4402\n",
      "Name: 766, dtype: object\n",
      "0\n",
      "Year                    2001\n",
      "State               ILLINOIS\n",
      "City              Naperville\n",
      "Population            129009\n",
      "Violent_crime            NaN\n",
      "Property_crime          2385\n",
      "Name: 767, dtype: object\n",
      "0\n",
      "Year                  2001\n",
      "State             ILLINOIS\n",
      "City                Peoria\n",
      "Population          113509\n",
      "Violent_crime          NaN\n",
      "Property_crime        8421\n",
      "Name: 768, dtype: object\n",
      "0\n",
      "Year                  2001\n",
      "State             ILLINOIS\n",
      "City              Rockford\n",
      "Population          150877\n",
      "Violent_crime          NaN\n",
      "Property_crime       11662\n",
      "Name: 769, dtype: object\n",
      "0\n",
      "Year                     2001\n",
      "State                ILLINOIS\n",
      "City              Springfield\n",
      "Population             112019\n",
      "Violent_crime             NaN\n",
      "Property_crime           7614\n",
      "Name: 770, dtype: object\n",
      "0\n",
      "Year                 2001\n",
      "State                IOWA\n",
      "City              Dubuque\n",
      "Population          57624\n",
      "Violent_crime         NaN\n",
      "Property_crime "
     ]
    },
    {
     "data": {
      "text/html": [
       "<b>limit_output extension: Maximum message size of 1500 exceeded with 4416 characters</b>"
      ]
     },
     "metadata": {},
     "output_type": "display_data"
    }
   ],
   "source": [
    "# Basically the only columns left with missing values are Population, Violent_crime, and Property_crime\n",
    "# Population will be delt with, but the annotations from the data source (FBI) have stated that\n",
    "# some data are not provided because of various sourcing issues (inconsistency, lack of data, etc.)\n",
    "# Therefore, those missing values will be labelled with some standardized arbitrary value (I'm \n",
    "# considering a negative value) to signify unknown data. \n",
    "\n",
    "for i in range(len(df_f)):\n",
    "    if any(df_f.loc[i, :].isna())==True:\n",
    "        print(df_f.loc[i, :])"
   ]
  },
  {
   "cell_type": "code",
   "execution_count": 26,
   "id": "64e85ced",
   "metadata": {
    "ExecuteTime": {
     "end_time": "2024-02-09T18:27:56.104982Z",
     "start_time": "2024-02-09T18:27:56.037218Z"
    }
   },
   "outputs": [],
   "source": [
    "# These entries are all labelled as either Police or Sheriff, and the data provided are all\n",
    "# insignificant in relation to the annual record of crimes from a city-level department.\n",
    "# Without further documentaiton, it makes sense to exclude them.\n",
    "df_f = df_f.drop([9858, 9863, 9866, 9868, 9874, 9876, 9878, 9881, 9883, 9886, 9889, 9892, 9894, 14542, 15958, \n",
    "           33480, 41639, 67688, 77166, 86456, 95920, 105365, 114622, 133510, 142963, 152343, 161387], \n",
    "          axis=0).reset_index()\n",
    "df_f.drop(\"index\", axis=1, inplace=True)\n",
    "\n",
    "# The remaining entries with unknown population are all extremely small rural settlements.\n",
    "# I will manually fill in the approx. population."
   ]
  },
  {
   "cell_type": "code",
   "execution_count": 27,
   "id": "2236f3e0",
   "metadata": {
    "ExecuteTime": {
     "end_time": "2024-02-09T18:27:58.286734Z",
     "start_time": "2024-02-09T18:27:58.264945Z"
    }
   },
   "outputs": [],
   "source": [
    "# Manually replace missing values for population. Avg population was used when actual data for that \n",
    "# year could not be found via US census data.\n",
    "i = df_f[df_f[\"Population\"].isnull()==True].index\n",
    "df_f.loc[i, \"Population\"] = [230, 230, 2300, 230, 2300, 230, 1094, 230, \n",
    "            1094, 600, 2300, 230, 1094, 270, 839, 213, 1255, 1008, 343, 777, 957, 217, 1302, 1294]"
   ]
  },
  {
   "cell_type": "code",
   "execution_count": 28,
   "id": "cb09678c",
   "metadata": {
    "ExecuteTime": {
     "end_time": "2024-02-09T18:28:01.937241Z",
     "start_time": "2024-02-09T18:28:01.830318Z"
    }
   },
   "outputs": [],
   "source": [
    "df_f.fillna(-1000, inplace=True)"
   ]
  },
  {
   "cell_type": "code",
   "execution_count": 29,
   "id": "8c06eee0",
   "metadata": {
    "ExecuteTime": {
     "end_time": "2024-02-09T18:28:03.464663Z",
     "start_time": "2024-02-09T18:28:03.413958Z"
    }
   },
   "outputs": [
    {
     "data": {
      "text/plain": [
       "array(['ALABAMA', 'ALASKA', 'ARIZONA', 'ARKANSAS', 'CALIFORNIA',\n",
       "       'COLORADO', 'CONNECTICUT', 'DELAWARE', 'DISTRICT OF COLUMBIA',\n",
       "       'FLORIDA', 'GEORGIA', 'HAWAII', 'IDAHO', 'ILLINOIS', 'INDIANA',\n",
       "       'IOWA', 'KANSAS', 'KENTUCKY', 'LOUISIANA', 'MAINE', 'MARYLAND',\n",
       "       'MASSACHUSETTS', 'MICHIGAN', 'MINNESOTA', 'MISSISSIPPI',\n",
       "       'MISSOURI', 'MONTANA', 'NEBRASKA', 'NEVADA', 'NEW HAMPSHIRE',\n",
       "       'NEW JERSEY', 'NEW MEXICO', 'NEW YORK', 'NORTH CAROLINA',\n",
       "       'NORTH DAKOTA', 'OHIO', 'OKLAHOMA', 'OREGON', 'PENNSYLVANIA',\n",
       "       'RHODE ISLAND', 'SOUTH CAROLINA', 'SOUTH DAKOTA', 'TENNESSEE',\n",
       "       'TEXAS', 'UTAH', 'VERMONT', 'VIRGINIA', 'WASHINGTON',\n",
       "       'WEST VIRGINIA', 'WISCONSIN', 'WYOMING'], dtype=object)"
      ]
     },
     "execution_count": 29,
     "metadata": {},
     "output_type": "execute_result"
    }
   ],
   "source": [
    "df_f.State = df_f.State.str.rstrip()\n",
    "df_f[\"State\"].unique()"
   ]
  },
  {
   "cell_type": "code",
   "execution_count": null,
   "id": "c801680a",
   "metadata": {},
   "outputs": [],
   "source": [
    "# IMPORTANT: Update the final csv before next step in cleaning. \n",
    "df_f.to_csv(\"State_by_City_2001-2019.csv\")"
   ]
  },
  {
   "cell_type": "code",
   "execution_count": 30,
   "id": "c31fc1b0",
   "metadata": {
    "ExecuteTime": {
     "end_time": "2024-02-09T18:28:23.553755Z",
     "start_time": "2024-02-09T18:28:12.258818Z"
    }
   },
   "outputs": [],
   "source": [
    "df_f = pd.read_csv(\"State_by_City_2001-2019.csv\", header=0, index_col=0, \n",
    "                 dtype={\"Year\": str, \"State\": str, \"City\": str, \"Population\": str,\n",
    "                        \"Violent_crime\": str, \"Property_crime\": str})\n",
    "# Some cells have \" \" instead of NaN, which also represents unincluded data.\n",
    "# Use regex to find all entries that have only whitespaces of any length. First turn all cells into str\n",
    "for i in range(len(df_f)):\n",
    "    for j in df_f.columns:\n",
    "        if re.match(\"\\A\\s*\\Z\", df_f.loc[i, j])!=None:\n",
    "            print(df_f.loc[i, :])"
   ]
  },
  {
   "cell_type": "code",
   "execution_count": 31,
   "id": "fc9b598a",
   "metadata": {
    "ExecuteTime": {
     "end_time": "2024-02-09T18:28:34.346016Z",
     "start_time": "2024-02-09T18:28:23.555594Z"
    }
   },
   "outputs": [],
   "source": [
    "for i in range(len(df_f)):\n",
    "    for j in df_f.columns:\n",
    "        if re.match(\"\\A\\s*\\Z\", df_f.loc[i, j])!=None:\n",
    "            df_f.loc[i, j] = -1000"
   ]
  },
  {
   "cell_type": "code",
   "execution_count": 131,
   "id": "f55825d2",
   "metadata": {
    "ExecuteTime": {
     "end_time": "2023-09-19T17:37:13.746693Z",
     "start_time": "2023-09-19T17:37:13.374893Z"
    }
   },
   "outputs": [],
   "source": [
    "df_f.to_csv(\"State_by_City_2001-2019.csv\")"
   ]
  }
 ],
 "metadata": {
  "kernelspec": {
   "display_name": "Python 3 (ipykernel)",
   "language": "python",
   "name": "python3"
  },
  "language_info": {
   "codemirror_mode": {
    "name": "ipython",
    "version": 3
   },
   "file_extension": ".py",
   "mimetype": "text/x-python",
   "name": "python",
   "nbconvert_exporter": "python",
   "pygments_lexer": "ipython3",
   "version": "3.9.7"
  },
  "toc": {
   "base_numbering": 1,
   "nav_menu": {},
   "number_sections": true,
   "sideBar": true,
   "skip_h1_title": false,
   "title_cell": "Table of Contents",
   "title_sidebar": "Contents",
   "toc_cell": false,
   "toc_position": {},
   "toc_section_display": true,
   "toc_window_display": false
  }
 },
 "nbformat": 4,
 "nbformat_minor": 5
}
