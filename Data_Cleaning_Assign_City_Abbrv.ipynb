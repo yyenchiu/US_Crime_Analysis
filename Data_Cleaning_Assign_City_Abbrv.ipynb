{
 "cells": [
  {
   "cell_type": "code",
   "execution_count": 1,
   "id": "8d3e7726",
   "metadata": {
    "ExecuteTime": {
     "end_time": "2024-02-09T18:32:46.752890Z",
     "start_time": "2024-02-09T18:32:43.580608Z"
    }
   },
   "outputs": [],
   "source": [
    "import os\n",
    "import json\n",
    "import math\n",
    "import numpy as np\n",
    "import pandas as pd\n",
    "import geopandas as gpd\n",
    "import matplotlib as plt\n",
    "import seaborn as sns\n",
    "plt.style.use('dark_background')\n",
    "pd.set_option('display.max_columns', None)\n",
    "pd.set_option('display.max_rows', 100)\n",
    "# pd.set_option('display.max_rows', None)\n",
    "import plotly.graph_objects as go\n",
    "import plotly.express as px\n",
    "import re\n",
    "import difflib"
   ]
  },
  {
   "cell_type": "code",
   "execution_count": 2,
   "id": "015bd3c5",
   "metadata": {
    "ExecuteTime": {
     "end_time": "2024-02-09T18:32:46.893372Z",
     "start_time": "2024-02-09T18:32:46.755809Z"
    }
   },
   "outputs": [],
   "source": [
    "df = pd.read_csv(\"State_by_City_2001-2019.csv\", header=0, index_col=0, \n",
    "                 dtype={\"Year\": int, \"State\": str, \"City\": str, \"Population\": int,\n",
    "                        \"Violent_crime\": int, \"Property_crime\": int})"
   ]
  },
  {
   "cell_type": "code",
   "execution_count": 3,
   "id": "b6d6efd3",
   "metadata": {
    "ExecuteTime": {
     "end_time": "2024-02-09T18:32:46.925320Z",
     "start_time": "2024-02-09T18:32:46.895369Z"
    }
   },
   "outputs": [
    {
     "data": {
      "text/plain": [
       "array(['ALABAMA', 'ALASKA', 'ARIZONA', 'ARKANSAS', 'CALIFORNIA',\n",
       "       'COLORADO', 'CONNECTICUT', 'DELAWARE', 'DISTRICT OF COLUMBIA',\n",
       "       'FLORIDA', 'GEORGIA', 'HAWAII', 'IDAHO', 'ILLINOIS', 'INDIANA',\n",
       "       'IOWA', 'KANSAS', 'KENTUCKY', 'LOUISIANA', 'MAINE', 'MARYLAND',\n",
       "       'MASSACHUSETTS', 'MICHIGAN', 'MINNESOTA', 'MISSISSIPPI',\n",
       "       'MISSOURI', 'MONTANA', 'NEBRASKA', 'NEVADA', 'NEW HAMPSHIRE',\n",
       "       'NEW JERSEY', 'NEW MEXICO', 'NEW YORK', 'NORTH CAROLINA',\n",
       "       'NORTH DAKOTA', 'OHIO', 'OKLAHOMA', 'OREGON', 'PENNSYLVANIA',\n",
       "       'RHODE ISLAND', 'SOUTH CAROLINA', 'SOUTH DAKOTA', 'TENNESSEE',\n",
       "       'TEXAS', 'UTAH', 'VERMONT', 'VIRGINIA', 'WASHINGTON',\n",
       "       'WEST VIRGINIA', 'WISCONSIN', 'WYOMING'], dtype=object)"
      ]
     },
     "execution_count": 3,
     "metadata": {},
     "output_type": "execute_result"
    }
   ],
   "source": [
    "df[\"State\"].unique()"
   ]
  },
  {
   "cell_type": "code",
   "execution_count": 4,
   "id": "5b88e471",
   "metadata": {
    "ExecuteTime": {
     "end_time": "2024-02-09T18:32:46.955784Z",
     "start_time": "2024-02-09T18:32:46.927315Z"
    }
   },
   "outputs": [],
   "source": [
    "abbrv = pd.read_csv(\"ABBRV.csv\", index_col=\"Unnamed: 0\")"
   ]
  },
  {
   "cell_type": "code",
   "execution_count": 5,
   "id": "574a4482",
   "metadata": {
    "ExecuteTime": {
     "end_time": "2024-02-09T18:32:46.971741Z",
     "start_time": "2024-02-09T18:32:46.958775Z"
    },
    "scrolled": true
   },
   "outputs": [
    {
     "data": {
      "text/html": [
       "<div>\n",
       "<style scoped>\n",
       "    .dataframe tbody tr th:only-of-type {\n",
       "        vertical-align: middle;\n",
       "    }\n",
       "\n",
       "    .dataframe tbody tr th {\n",
       "        vertical-align: top;\n",
       "    }\n",
       "\n",
       "    .dataframe thead th {\n",
       "        text-align: right;\n",
       "    }\n",
       "</style>\n",
       "<table border=\"1\" class=\"dataframe\">\n",
       "  <thead>\n",
       "    <tr style=\"text-align: right;\">\n",
       "      <th></th>\n",
       "      <th>State</th>\n",
       "      <th>Abbrv</th>\n",
       "    </tr>\n",
       "  </thead>\n",
       "  <tbody>\n",
       "    <tr>\n",
       "      <th>0</th>\n",
       "      <td>ALABAMA</td>\n",
       "      <td>AL</td>\n",
       "    </tr>\n",
       "    <tr>\n",
       "      <th>1</th>\n",
       "      <td>ALASKA</td>\n",
       "      <td>AK</td>\n",
       "    </tr>\n",
       "    <tr>\n",
       "      <th>2</th>\n",
       "      <td>ARIZONA</td>\n",
       "      <td>AZ</td>\n",
       "    </tr>\n",
       "    <tr>\n",
       "      <th>3</th>\n",
       "      <td>ARKANSAS</td>\n",
       "      <td>AR</td>\n",
       "    </tr>\n",
       "    <tr>\n",
       "      <th>4</th>\n",
       "      <td>AMERICAN SAMOA</td>\n",
       "      <td>AS</td>\n",
       "    </tr>\n",
       "    <tr>\n",
       "      <th>5</th>\n",
       "      <td>CALIFORNIA</td>\n",
       "      <td>CA</td>\n",
       "    </tr>\n",
       "    <tr>\n",
       "      <th>6</th>\n",
       "      <td>COLORADO</td>\n",
       "      <td>CO</td>\n",
       "    </tr>\n",
       "    <tr>\n",
       "      <th>7</th>\n",
       "      <td>CONNECTICUT</td>\n",
       "      <td>CT</td>\n",
       "    </tr>\n",
       "    <tr>\n",
       "      <th>8</th>\n",
       "      <td>DELAWARE</td>\n",
       "      <td>DE</td>\n",
       "    </tr>\n",
       "    <tr>\n",
       "      <th>9</th>\n",
       "      <td>DISTRICT OF COLUMBIA</td>\n",
       "      <td>DC</td>\n",
       "    </tr>\n",
       "    <tr>\n",
       "      <th>10</th>\n",
       "      <td>FLORIDA</td>\n",
       "      <td>FL</td>\n",
       "    </tr>\n",
       "    <tr>\n",
       "      <th>11</th>\n",
       "      <td>GEORGIA</td>\n",
       "      <td>GA</td>\n",
       "    </tr>\n",
       "    <tr>\n",
       "      <th>12</th>\n",
       "      <td>GUAM</td>\n",
       "      <td>GU</td>\n",
       "    </tr>\n",
       "    <tr>\n",
       "      <th>13</th>\n",
       "      <td>HAWAII</td>\n",
       "      <td>HI</"
      ],
      "text/plain": [
       "                       State Abbrv\n",
       "0                    ALABAMA    AL\n",
       "1                     ALASKA    AK\n",
       "2                    ARIZONA    AZ\n",
       "3                   ARKANSAS    AR\n",
       "4             AMERICAN SAMOA    AS\n",
       "5                 CALIFORNIA    CA\n",
       "6                   COLORADO    CO\n",
       "7                CONNECTICUT    CT\n",
       "8                   DELAWARE    DE\n",
       "9       DISTRICT OF COLUMBIA    DC\n",
       "10                   FLORIDA    FL\n",
       "11                   GEORGIA    GA\n",
       "12                      GUAM    GU\n",
       "13                    HAWAII    HI\n",
       "14                     IDAHO    ID\n",
       "15                  ILLINOIS    IL\n",
       "16                   INDIANA    IN\n",
       "17                      IOWA    IA\n",
       "18                    KANSAS    KS\n",
       "19                  KENTUCKY    KY\n",
       "20                 LOUISIANA    LA\n",
       "21                     MAINE    ME\n",
       "22                  MARYLAND    MD\n",
       "23             MASSACHUSETTS    MA\n",
       "24                  MICHIGAN    MI\n",
       "25                 MINNESOTA    MN\n",
       "26               MISSISSIPPI    MS\n",
       "27                  MISSOURI    MO\n",
       "28                   MONTANA    MT\n",
       "29                  NEBRASKA    NE\n",
       "30                    NEVADA    NV\n",
       "31             NEW HAMPSHIRE    NH\n",
       "32                NEW JERSEY    NJ\n",
       "33                NEW MEXICO    NM\n",
       "34                  NEW YORK    NY\n",
       "35            NORTH CAROLINA    NC\n",
       "36              NORTH DAKOTA    ND\n",
       "37  NORTHERN MARIANA ISLANDS    MP\n",
       "38                      OHIO    OH\n",
       "39                  OKLAHOMA    OK\n",
       "40                    OREGON    OR\n",
       "41              PENNSYLVANIA  "
      ]
     },
     "execution_count": 5,
     "metadata": {},
     "output_type": "execute_result"
    },
    {
     "data": {
      "text/html": [
       "<b>limit_output extension: Maximum message size of 1500 exceeded with 4996 characters</b>"
      ]
     },
     "metadata": {},
     "output_type": "display_data"
    }
   ],
   "source": [
    "abbrv"
   ]
  },
  {
   "cell_type": "code",
   "execution_count": 6,
   "id": "187a6c7e",
   "metadata": {
    "ExecuteTime": {
     "end_time": "2024-02-09T18:32:47.033586Z",
     "start_time": "2024-02-09T18:32:46.973736Z"
    }
   },
   "outputs": [],
   "source": [
    "# maybe try to optimize in the future using lambda function\n",
    "# Original Runtime (nested for loop) 3 min\n",
    "# df[\"State_Abbrv\"] = \"\"\n",
    "# for i in range(len(df)):\n",
    "#     for j in range(len(abbrv)):\n",
    "#         if df.loc[i, \"State\"]==abbrv.loc[j, \"State\"]:\n",
    "#             df.loc[i, \"State_Abbrv\"] = abbrv.loc[j, \"Abbrv\"]\n",
    "\n",
    "abbrv_dict = abbrv.set_index(\"State\").to_dict()[\"Abbrv\"]\n",
    "tail = df[\"State\"].apply(lambda x: \", \" + abbrv_dict[x])\n",
    "df[\"City\"] = df[\"City\"] + tail"
   ]
  },
  {
   "cell_type": "code",
   "execution_count": 7,
   "id": "94eb565b",
   "metadata": {
    "ExecuteTime": {
     "end_time": "2024-02-09T18:32:47.065452Z",
     "start_time": "2024-02-09T18:32:47.034573Z"
    }
   },
   "outputs": [],
   "source": [
    "df[\"State_Abbrv\"] = df[\"State\"].apply(lambda x: abbrv)"
   ]
  },
  {
   "cell_type": "code",
   "execution_count": 8,
   "id": "23774a0e",
   "metadata": {
    "ExecuteTime": {
     "end_time": "2024-02-09T18:32:47.412944Z",
     "start_time": "2024-02-09T18:32:47.068403Z"
    }
   },
   "outputs": [
    {
     "data": {
      "text/html": [
       "<div>\n",
       "<style scoped>\n",
       "    .dataframe tbody tr th:only-of-type {\n",
       "        vertical-align: middle;\n",
       "    }\n",
       "\n",
       "    .dataframe tbody tr th {\n",
       "        vertical-align: top;\n",
       "    }\n",
       "\n",
       "    .dataframe thead th {\n",
       "        text-align: right;\n",
       "    }\n",
       "</style>\n",
       "<table border=\"1\" class=\"dataframe\">\n",
       "  <thead>\n",
       "    <tr style=\"text-align: right;\">\n",
       "      <th></th>\n",
       "      <th>Year</th>\n",
       "      <th>State</th>\n",
       "      <th>City</th>\n",
       "      <th>Population</th>\n",
       "      <th>Violent_crime</th>\n",
       "      <th>Property_crime</th>\n",
       "      <th>State_Abbrv</th>\n",
       "    </tr>\n",
       "  </thead>\n",
       "  <tbody>\n",
       "    <tr>\n",
       "      <th>74170</th>\n",
       "      <td>2010</td>\n",
       "      <td>ALABAMA</td>\n",
       "      <td>Abbeville, AL</td>\n",
       "      <td>2950</td>\n",
       "      <td>21</td>\n",
       "      <td>67</td>\n",
       "      <td>State Abbrv\n",
       "0          ...</td>\n",
       "    </tr>\n",
       "    <tr>\n",
       "      <th>76932</th>\n",
       "      <td>2010</td>\n",
       "      <td>LOUISIANA</td>\n",
       "      <td>Abbeville, LA</td>\n",
       "      <td>12310</td>\n",
       "      <td>123</td>\n",
       "      <td>428</td>\n",
       "      <td>State Abbrv\n",
       "0          ...</td>\n",
       "    </tr>\n",
       "    <tr>\n",
       "      <th>81557</th>\n",
       "      <td>2010</td>\n",
       "      <td>SOUTH CAROLINA</td>\n",
       "      <td>Abbeville, SC</td>\n",
       "      <td>5443</td>\n",
       "      <td>53</td>\n",
       "      <td>225</td>\n",
       "      <td>State Abbrv\n",
       "0          ...</td>\n",
       "    </tr>\n",
       "    <tr>\n",
       "      <th>78791</th>\n",
       "      <td>2010</td>\n",
       "      <td>NEW JERSEY</td>\n",
       "      <td>Aberdeen Township, NJ</td>\n",
       "      <td>18575</td>\n",
       "      <td>21</td>\n",
       "      <td>272</td>\n",
       "      <td>State Abbrv\n",
       "0          ...</td>\n",
       "    </tr>\n",
       "    <tr>\n",
       "      <th>75897</th>\n",
       "      <td>2010</td>\n",
       "      <td>IDAHO</td>\n",
       "      <td>Aberdeen, ID</t"
      ],
      "text/plain": [
       "       Year           State                                City  Population  \\\n",
       "74170  2010         ALABAMA                       Abbeville, AL        2950   \n",
       "76932  2010       LOUISIANA                       Abbeville, LA       12310   \n",
       "81557  2010  SOUTH CAROLINA                       Abbeville, SC        5443   \n",
       "78791  2010      NEW JERSEY               Aberdeen Township, NJ       18575   \n",
       "75897  2010           IDAHO                        Aberdeen, ID        1762   \n",
       "77145  2010        MARYLAND                        Aberdeen, MD       14198   \n",
       "78034  2010     MISSISSIPPI                        Aberdeen, MS        5966   \n",
       "79705  2010  NORTH CAROLINA                        Aberdeen, NC        6116   \n",
       "81712  2010    SOUTH DAKOTA                        Aberdeen, SD       24818   \n",
       "82955  2010      WASHINGTON                        Aberdeen, WA       15917   \n",
       "82028  2010           TEXAS                       Abernathy, TX        2748   \n",
       "76618  2010          KANSAS                         Abilene, KS        6284   \n",
       "82029  2010           TEXAS                         Abilene, TX      116938   \n",
       "82809  2010        VIRGINIA                        Abingdon, VA        8059   \n",
       "80592  2010    PENNSYLVANIA               Abington Township, PA       54235   \n",
       "77223  2010   MASSACHUSETTS                        Abington, MA       16836   \n",
       "78792  2010      NEW JERSEY                         Absecon, NJ        8728   \n",
       "80298  2010        OKLAHOMA                         Achille, OK         549   "
      ]
     },
     "execution_count": 8,
     "metadata": {},
     "output_type": "execute_result"
    },
    {
     "data": {
      "text/html": [
       "<b>limit_output extension: Maximum message size of 1500 exceeded with 21824 characters</b>"
      ]
     },
     "metadata": {},
     "output_type": "display_data"
    }
   ],
   "source": [
    "df[df[\"Year\"]==2010].sort_values(\"City\").head(100)"
   ]
  },
  {
   "cell_type": "code",
   "execution_count": 9,
   "id": "4bc147ca",
   "metadata": {
    "ExecuteTime": {
     "end_time": "2024-02-09T18:32:47.775412Z",
     "start_time": "2024-02-09T18:32:47.413942Z"
    }
   },
   "outputs": [],
   "source": [
    "gjs = json.load(open(\"ak.json\", \"r\"))"
   ]
  },
  {
   "cell_type": "code",
   "execution_count": 10,
   "id": "d93c7495",
   "metadata": {
    "ExecuteTime": {
     "end_time": "2024-02-09T18:32:50.316034Z",
     "start_time": "2024-02-09T18:32:47.777378Z"
    }
   },
   "outputs": [],
   "source": [
    "gdf = gpd.read_file(\"ak.json\")"
   ]
  },
  {
   "cell_type": "code",
   "execution_count": 11,
   "id": "75eb7359",
   "metadata": {
    "ExecuteTime": {
     "end_time": "2024-02-09T18:32:50.331323Z",
     "start_time": "2024-02-09T18:32:50.318032Z"
    }
   },
   "outputs": [],
   "source": [
    "area_id_map = {}\n",
    "for city in gjs[\"features\"]:\n",
    "    city[\"id\"] = int(city[\"properties\"][\"GEOID\"])\n",
    "    area_id_map[city[\"properties\"][\"NAMELSAD\"].title()] = city[\"id\"]"
   ]
  },
  {
   "cell_type": "code",
   "execution_count": 12,
   "id": "69b67403",
   "metadata": {
    "ExecuteTime": {
     "end_time": "2024-02-09T18:32:50.346386Z",
     "start_time": "2024-02-09T18:32:50.332209Z"
    }
   },
   "outputs": [
    {
     "data": {
      "text/plain": [
       "['ak.json',\n",
       " 'al.json',\n",
       " 'ar.json',\n",
       " 'as.json',\n",
       " 'az.json',\n",
       " 'ca.json',\n",
       " 'co.json',\n",
       " 'ct.json',\n",
       " 'dc.json',\n",
       " 'de.json',\n",
       " 'fl.json',\n",
       " 'ga.json',\n",
       " 'gu.json',\n",
       " 'hi.json',\n",
       " 'ia.json',\n",
       " 'id.json',\n",
       " 'il.json',\n",
       " 'in.json',\n",
       " 'ks.json',\n",
       " 'ky.json',\n",
       " 'la.json',\n",
       " 'ma.json',\n",
       " 'md.json',\n",
       " 'me.json',\n",
       " 'mi.json',\n",
       " 'mn.json',\n",
       " 'mo.json',\n",
       " 'mp.json',\n",
       " 'ms.json',\n",
       " 'mt.json',\n",
       " 'nc.json',\n",
       " 'nd.json',\n",
       " 'ne.json',\n",
       " 'nh.json',\n",
       " 'nj.json',\n",
       " 'nm.json',\n",
       " 'nv.json',\n",
       " 'ny.json',\n",
       " 'oh.json',\n",
       " 'ok.json',\n",
       " 'or.json',\n",
       " 'pa.json',\n",
       " 'pr.json',\n",
       " 'ri.json',\n",
       " 'sc.json',\n",
       " 'sd.json',\n",
       " 'tn.json',\n",
       " 'tx.json',\n",
       " 'ut.json',\n",
       " 'va.json',\n",
       " 'vi.json',\n",
       " 'vt.json',\n",
       " 'wa.json',\n",
       " 'wi.json',\n",
       " 'wv.json',\n",
       " 'wy.json']"
      ]
     },
     "execution_count": 12,
     "metadata": {},
     "output_type": "execute_result"
    }
   ],
   "source": [
    "os.chdir(r\"C:\\Users\\chiuy\\Jupyter_Projects\\US_Crime\\states_geojson\")\n",
    "os.listdir()"
   ]
  },
  {
   "cell_type": "code",
   "execution_count": 13,
   "id": "84bd44ce",
   "metadata": {
    "ExecuteTime": {
     "end_time": "2024-02-09T18:32:50.361520Z",
     "start_time": "2024-02-09T18:32:50.348384Z"
    }
   },
   "outputs": [],
   "source": [
    "# This process won't work unless all of the names match from the df and the index.\n",
    "# Furthermore, there are duplicate names from different states, so that has to be addressed as well.\n",
    "# area_id_map = {}\n",
    "# for file in os.listdir():\n",
    "#     gjs = json.load(open(file, \"r\"))\n",
    "#     for city in gjs[\"features\"]:\n",
    "#         city[\"id\"] = int(city[\"properties\"][\"GEOID\"])\n",
    "#         area_id_map[city[\"properties\"][\"NAME\"].title()] = city[\"id\"]\n",
    "# df[\"id\"] = df[\"City\"].apply(lambda x: area_id_map[x])"
   ]
  },
  {
   "cell_type": "code",
   "execution_count": 14,
   "id": "e261195b",
   "metadata": {
    "ExecuteTime": {
     "end_time": "2024-02-09T18:33:32.607805Z",
     "start_time": "2024-02-09T18:32:50.364518Z"
    }
   },
   "outputs": [
    {
     "name": "stderr",
     "output_type": "stream",
     "text": [
      "C:\\Users\\chiuy\\anaconda3\\lib\\site-packages\\geopandas\\array.py:1406: UserWarning: CRS not set for some of the concatenation inputs. Setting output's CRS as NAD83 (the single non-null crs provided).\n",
      "  warnings.warn(\n"
     ]
    },
    {
     "ename": "KeyboardInterrupt",
     "evalue": "",
     "output_type": "error",
     "traceback": [
      "\u001b[1;31m---------------------------------------------------------------------------\u001b[0m",
      "\u001b[1;31mKeyboardInterrupt\u001b[0m                         Traceback (most recent call last)",
      "\u001b[1;32m~\\AppData\\Local\\Temp/ipykernel_17428/2488511780.py\u001b[0m in \u001b[0;36m<module>\u001b[1;34m\u001b[0m\n\u001b[0;32m      3\u001b[0m        'AWATER', 'INTPTLAT', 'INTPTLON', 'geometry', \"STATE\"])\n\u001b[0;32m      4\u001b[0m \u001b[1;32mfor\u001b[0m \u001b[0mfile\u001b[0m \u001b[1;32min\u001b[0m \u001b[0mos\u001b[0m\u001b[1;33m.\u001b[0m\u001b[0mlistdir\u001b[0m\u001b[1;33m(\u001b[0m\u001b[1;33m)\u001b[0m\u001b[1;33m:\u001b[0m\u001b[1;33m\u001b[0m\u001b[1;33m\u001b[0m\u001b[0m\n\u001b[1;32m----> 5\u001b[1;33m     \u001b[0mcur\u001b[0m \u001b[1;33m=\u001b[0m \u001b[0mgpd\u001b[0m\u001b[1;33m.\u001b[0m\u001b[0mread_file\u001b[0m\u001b[1;33m(\u001b[0m\u001b[0mfile\u001b[0m\u001b[1;33m)\u001b[0m\u001b[1;33m\u001b[0m\u001b[1;33m\u001b[0m\u001b[0m\n\u001b[0m\u001b[0;32m      6\u001b[0m     \u001b[0mcur\u001b[0m\u001b[1;33m[\u001b[0m\u001b[1;34m\"STATE\"\u001b[0m\u001b[1;33m]\u001b[0m \u001b[1;33m=\u001b[0m \u001b[0mfile\u001b[0m\u001b[1;33m[\u001b[0m\u001b[1;36m0\u001b[0m\u001b[1;33m:\u001b[0m\u001b[1;36m2\u001b[0m\u001b[1;33m]\u001b[0m\u001b[1;33m.\u001b[0m\u001b[0mupper\u001b[0m\u001b[1;33m(\u001b[0m\u001b[1;33m)\u001b[0m\u001b[1;33m\u001b[0m\u001b[1;33m\u001b[0m\u001b[0m\n\u001b[0;32m      7\u001b[0m     \u001b[0mgdf\u001b[0m \u001b[1;33m=\u001b[0m \u001b[0mpd\u001b[0m\u001b[1;33m.\u001b[0m\u001b[0mconcat\u001b[0m\u001b[1;33m(\u001b[0m\u001b[1;33m[\u001b[0m\u001b[0mgdf\u001b[0m\u001b[1;33m,\u001b[0m \u001b[0mcur\u001b[0m\u001b[1;33m]\u001b[0m\u001b[1;33m,\u001b[0m \u001b[0mignore_index\u001b[0m\u001b[1;33m=\u001b[0m\u001b[1;32mTrue\u001b[0m\u001b[1;33m)\u001b[0m\u001b[1;33m\u001b[0m\u001b[1;33m\u001b[0m\u001b[0m\n",
      "\u001b[1;32m~\\anaconda3\\lib\\site-packages\\geopandas\\io\\file.py\u001b[0m in \u001b[0;36m_read_file\u001b[1;34m(filename, bbox, mask, rows, engine, **kwargs)\u001b[0m\n\u001b[0;32m    257\u001b[0m \u001b[1;33m\u001b[0m\u001b[0m\n\u001b[0;32m    258\u001b[0m     \u001b[1;32mif\u001b[0m \u001b[0mengine\u001b[0m \u001b[1;33m==\u001b[0m \u001b[1;34m\"fiona\"\u001b[0m\u001b[1;33m:\u001b[0m\u001b[1;33m\u001b[0m\u001b[1;33m\u001b[0m\u001b[0m\n\u001b[1;32m--> 259\u001b[1;33m         return _read_file_fiona(\n\u001b[0m\u001b[0;32m    260\u001b[0m             \u001b[0mpath_or_bytes\u001b[0m\u001b[1;33m,\u001b[0m \u001b[0mfrom_bytes\u001b[0m\u001b[1;33m,\u001b[0m \u001b[0mbbox\u001b[0m\u001b[1;33m=\u001b[0m\u001b[0mbbox\u001b[0m\u001b[1;33m,\u001b[0m \u001b[0mmask\u001b[0m\u001b[1;33m=\u001b[0m\u001b[0mmask\u001b[0m\u001b[1;33m,\u001b[0m \u001b[0mrows\u001b[0m\u001b[1;33m=\u001b[0m\u001b[0mrows\u001b[0m\u001b[1;33m,\u001b[0m \u001b[1;33m**\u001b[0m\u001b[0mkwargs\u001b[0m\u001b[1;33m\u001b[0m\u001b[1;33m\u001b[0m\u001b[0m\n\u001b[0;32m    261\u001b[0m         )\n",
      "\u001b[1;32m~\\anaconda3\\lib\\site-packages\\geopandas\\io\\file.py\u001b[0m in \u001b[0;36m_read_file_fiona\u001b[1;34m(path_or_bytes, from_bytes, bbox, mask, rows, where, **kwargs)\u001b[0m\n\u001b[0;32m    301\u001b[0m \u001b[1;33m\u001b[0m\u001b[0m\n\u001b[0;32m    302\u001b[0m     \u001b[1;32mwith\u001b[0m \u001b[0mfiona_env\u001b[0m\u001b[1;33m(\u001b[0m\u001b[1;33m)\u001b[0m\u001b[1;33m:\u001b[0m\u001b[1;33m\u001b[0m\u001b[1;33m\u001b[0m\u001b[0m\n\u001b[1;32m--> 303\u001b[1;33m         \u001b[1;32mwith\u001b[0m \u001b[0mreader\u001b[0m\u001b[1;33m(\u001b[0m\u001b[0mpath_or_bytes\u001b[0m\u001b[1;33m,\u001b[0m \u001b[1;33m**\u001b[0m\u001b[0mkwargs\u001b[0m\u001b[1;33m)\u001b[0m \u001b[1;32mas\u001b[0m \u001b[0mfeatures\u001b[0m\u001b[1;33m:\u001b[0m\u001b[1;33m\u001b[0m\u001b[1;33m\u001b[0m\u001b[0m\n\u001b[0m\u001b[0;32m    304\u001b[0m             \u001b[0mcrs\u001b[0m \u001b[1;33m=\u001b[0m \u001b[0mfeatures\u001b[0m\u001b[1;33m.\u001b[0m\u001b[0mcrs_wkt\u001b[0m\u001b[1;33m\u001b[0m\u001b[1;33m\u001b[0m\u001b[0m\n\u001b[0;32m    305\u001b[0m             \u001b[1;31m# attempt to get EPSG code\u001b[0m\u001b[1;33m\u001b[0m\u001b[1;33m\u001b[0m\u001b[0m\n",
      "\u001b[1;32m~\\anaconda3\\lib\\site-packages\\fiona\\env.py\u001b[0m in \u001b[0;36mwrapper\u001b[1;34m(*args, **kwds)\u001b[0m\n\u001b[0;32m    455\u001b[0m \u001b[1;33m\u001b[0m\u001b[0m\n\u001b[0;32m    456\u001b[0m         \u001b[1;32mwith\u001b[0m \u001b[0menv_ctor\u001b[0m\u001b[1;33m(\u001b[0m\u001b[0msession\u001b[0m\u001b[1;33m=\u001b[0m\u001b[0msession\u001b[0m\u001b[1;33m)\u001b[0m\u001b[1;33m:\u001b[0m\u001b[1;33m\u001b[0m\u001b[1;33m\u001b[0m\u001b[0m\n\u001b[1;32m--> 457\u001b[1;33m             \u001b[1;32mreturn\u001b[0m \u001b[0mf\u001b[0m\u001b[1;33m(\u001b[0m\u001b[1;33m*\u001b[0m\u001b[0margs\u001b[0m\u001b[1;33m,\u001b[0m \u001b[1;33m**\u001b[0m\u001b[0mkwds\u001b[0m\u001b[1;33m)\u001b[0m\u001b[1;33m\u001b[0m\u001b[1;33m\u001b[0m\u001b[0m\n\u001b[0m\u001b[0;32m    458\u001b[0m \u001b[1;33m\u001b[0m\u001b[0m\n\u001b[0;32m    459\u001b[0m     \u001b[1;32mreturn\u001b[0m \u001b[0mwrapper\u001b[0m\u001b[1;33m\u001b[0m\u001b[1;33m\u001b[0m\u001b[0m\n",
      "\u001b[1;32m~\\anaconda3\\lib\\site-packages\\fiona\\__init__.py\u001b[0m in \u001b[0;36mopen\u001b[1;34m(fp, mode, driver, schema, crs, encoding, layer, vfs, enabled_drivers, crs_wkt, allow_unsupported_drivers, **kwargs)\u001b[0m\n\u001b[0;32m    358\u001b[0m \u001b[1;33m\u001b[0m\u001b[0m\n\u001b[0;32m    359\u001b[0m         \u001b[1;32mif\u001b[0m \u001b[0mmode\u001b[0m \u001b[1;32min\u001b[0m \u001b[1;33m(\u001b[0m\u001b[1;34m\"a\"\u001b[0m\u001b[1;33m,\u001b[0m \u001b[1;34m\"r\"\u001b[0m\u001b[1;33m)\u001b[0m\u001b[1;33m:\u001b[0m\u001b[1;33m\u001b[0m\u001b[1;33m\u001b[0m\u001b[0m\n\u001b[1;32m--> 360\u001b[1;33m             colxn = Collection(\n\u001b[0m\u001b[0;32m    361\u001b[0m                 \u001b[0mpath\u001b[0m\u001b[1;33m,\u001b[0m\u001b[1;33m\u001b[0m\u001b[1;33m\u001b[0m\u001b[0m\n\u001b[0;32m    362\u001b[0m                 \u001b[0mmode\u001b[0m\u001b[1;33m,\u001b[0m\u001b[1;33m\u001b[0m\u001b[1;33m\u001b[0m\u001b[0m\n",
      "\u001b[1;32m~\\anaconda3\\lib\\site-packages\\fiona\\collection.py\u001b[0m in \u001b[0;36m__init__\u001b[1;34m(self, path, mode, driver, schema, crs, encoding, layer, vsi, archive, enabled_drivers, crs_wkt, ignore_fields, ignore_geometry, include_fields, wkt_version, allow_unsupported_drivers, **kwargs)\u001b[0m\n\u001b[0;32m    235\u001b[0m             \u001b[1;32melif\u001b[0m \u001b[0mself\u001b[0m\u001b[1;33m.\u001b[0m\u001b[0mmode\u001b[0m \u001b[1;32min\u001b[0m \u001b[1;33m(\u001b[0m\u001b[1;34m\"a\"\u001b[0m\u001b[1;33m,\u001b[0m \u001b[1;34m\"w\"\u001b[0m\u001b[1;33m)\u001b[0m\u001b[1;33m:\u001b[0m\u001b[1;33m\u001b[0m\u001b[1;33m\u001b[0m\u001b[0m\n\u001b[0;32m    236\u001b[0m                 \u001b[0mself\u001b[0m\u001b[1;33m.\u001b[0m\u001b[0msession\u001b[0m \u001b[1;33m=\u001b[0m \u001b[0mWritingSession\u001b[0m\u001b[1;33m(\u001b[0m\u001b[1;33m)\u001b[0m\u001b[1;33m\u001b[0m\u001b[1;33m\u001b[0m\u001b[0m\n\u001b[1;32m--> 237\u001b[1;33m                 \u001b[0mself\u001b[0m\u001b[1;33m.\u001b[0m\u001b[0msession\u001b[0m\u001b[1;33m.\u001b[0m\u001b[0mstart\u001b[0m\u001b[1;33m(\u001b[0m\u001b[0mself\u001b[0m\u001b[1;33m,\u001b[0m \u001b[1;33m**\u001b[0m\u001b[0mkwargs\u001b[0m\u001b[1;33m)\u001b[0m\u001b[1;33m\u001b[0m\u001b[1;33m\u001b[0m\u001b[0m\n\u001b[0m\u001b[0;32m    238\u001b[0m         \u001b[1;32mexcept\u001b[0m \u001b[0mOSError\u001b[0m\u001b[1;33m:\u001b[0m\u001b[1;33m\u001b[0m\u001b[1;33m\u001b[0m\u001b[0m\n\u001b[0;32m    239\u001b[0m             \u001b[0mself\u001b[0m\u001b[1;33m.\u001b[0m\u001b[0msession\u001b[0m \u001b[1;33m=\u001b[0m \u001b[1;32mNone\u001b[0m\u001b[1;33m\u001b[0m\u001b[1;33m\u001b[0m\u001b[0m\n",
      "\u001b[1;31mKeyboardInterrupt\u001b[0m: "
     ]
    }
   ],
   "source": [
    "gdf = pd.DataFrame(columns=['STATEFP', 'PLACEFP', 'PLACENS', 'GEOID', 'NAME', 'NAMELSAD', 'LSAD',\n",
    "       'CLASSFP', 'PCICBSA', 'PCINECTA', 'MTFCC', 'FUNCSTAT', 'ALAND',\n",
    "       'AWATER', 'INTPTLAT', 'INTPTLON', 'geometry', \"STATE\"])\n",
    "for file in os.listdir():\n",
    "    cur = gpd.read_file(file)\n",
    "    cur[\"STATE\"] = file[0:2].upper()\n",
    "    gdf = pd.concat([gdf, cur], ignore_index=True)"
   ]
  },
  {
   "cell_type": "code",
   "execution_count": null,
   "id": "7619d364",
   "metadata": {
    "ExecuteTime": {
     "end_time": "2024-02-09T18:33:32.609765Z",
     "start_time": "2024-02-09T18:33:32.609765Z"
    }
   },
   "outputs": [],
   "source": [
    "abbrv_dict = abbrv.set_index(\"Abbrv\").to_dict()[\"State\"]\n",
    "gdf[\"STATE\"] = gdf[\"STATE\"].apply(lambda x: abbrv_dict[x])"
   ]
  },
  {
   "cell_type": "code",
   "execution_count": null,
   "id": "09ba54ee",
   "metadata": {
    "ExecuteTime": {
     "end_time": "2024-02-09T18:33:32.610762Z",
     "start_time": "2024-02-09T18:33:32.610762Z"
    }
   },
   "outputs": [],
   "source": [
    "# gdf[\"NAME\"] = gdf.NAME + \", \" + gdf.STATE"
   ]
  },
  {
   "cell_type": "code",
   "execution_count": null,
   "id": "ebdcafaa",
   "metadata": {
    "ExecuteTime": {
     "end_time": "2024-02-09T18:33:32.611791Z",
     "start_time": "2024-02-09T18:33:32.611791Z"
    }
   },
   "outputs": [],
   "source": [
    "os.chdir(r\"C:\\Users\\chiuy\\Jupyter_Projects\\US_Crime\")"
   ]
  },
  {
   "cell_type": "code",
   "execution_count": null,
   "id": "a894a12b",
   "metadata": {
    "ExecuteTime": {
     "end_time": "2024-02-09T18:33:32.613754Z",
     "start_time": "2024-02-09T18:33:32.613754Z"
    },
    "scrolled": true
   },
   "outputs": [],
   "source": [
    "# Still have issue with naming inconsistencies. \n",
    "# For example, Ventura CA is named San Buenaventura (Ventura), CA in the gdf.\n",
    "\n",
    "print(\"Number of unmatched entries: \"  + str((len(df)-df[\"City\"].isin(gdf[\"NAME\"]).sum())))\n",
    "print(\"Percentage of unmatched entries: \" + str(round((len(df)-df[\"City\"].isin(gdf[\"NAME\"]).sum())/len(df)*100, 2)) + \"%\")\n",
    "print(\"-----------------------------------------------------------------\\n\")\n",
    "# for i in range(len(df)):\n",
    "#     if len(difflib.get_close_matches(df.loc[i, \"City\"], gdf[\"NAME\"], cutoff=0.95))==0:\n",
    "#         print(i)\n",
    "#         print(df.loc[i, \"City\"])\n",
    "#         print(df.loc[i, \"Population\"])"
   ]
  },
  {
   "cell_type": "code",
   "execution_count": null,
   "id": "3a8d3b9f",
   "metadata": {
    "ExecuteTime": {
     "end_time": "2024-02-09T18:33:32.614751Z",
     "start_time": "2024-02-09T18:33:32.614751Z"
    }
   },
   "outputs": [],
   "source": [
    "for state in abbrv[\"State\"]:\n",
    "    print()\n",
    "    print(state)\n",
    "    cur_df = df[df[\"State\"]==state].reset_index().drop(\"index\", axis=1)\n",
    "    cur_gdf = gdf[gdf[\"STATE\"]==state].reset_index().drop(\"index\", axis=1)\n",
    "    for i in range(len(cur_df)):\n",
    "        print(cur_df.loc[i, \"City\"], \":::\", difflib.get_close_matches(cur_df.loc[i, \"City\"], cur_gdf[\"NAME\"], n=1, cutoff=0.6))"
   ]
  },
  {
   "cell_type": "code",
   "execution_count": null,
   "id": "3a1fa8be",
   "metadata": {
    "ExecuteTime": {
     "end_time": "2024-02-09T18:33:32.617744Z",
     "start_time": "2024-02-09T18:33:32.617744Z"
    }
   },
   "outputs": [],
   "source": [
    "for state in abbrv[\"State\"]:\n",
    "    print()\n",
    "    print(state)\n",
    "    cur_df = df[df[\"State\"]==state].reset_index().drop(\"index\", axis=1)\n",
    "    cur_gdf = gdf[gdf[\"STATE\"]==state].reset_index().drop(\"index\", axis=1)\n",
    "    print(\"Number of unmatched entries: \"  + str((len(cur_df)-cur_df[\"City\"].isin(cur_gdf[\"NAME\"]).sum())))\n",
    "    print(\"Percentage of unmatched entries: \" + str(round((len(cur_df)-cur_df[\"City\"].isin(cur_gdf[\"NAME\"]).sum())/len(df)*100, 2)) + \"%\")\n",
    "    print(\"-----------------------------------------------------------------\\n\")"
   ]
  },
  {
   "cell_type": "code",
   "execution_count": null,
   "id": "2c8b82b5",
   "metadata": {
    "ExecuteTime": {
     "end_time": "2024-02-09T18:33:32.618740Z",
     "start_time": "2024-02-09T18:33:32.618740Z"
    }
   },
   "outputs": [],
   "source": [
    "for cur_state in abbrv[\"State\"]:\n",
    "    print(cur_state)\n",
    "    cur_year=2019\n",
    "    cur_df = df[(df[\"State\"]==cur_state) & (df[\"Year\"]==cur_year)].reset_index().drop(\"index\", axis=1)\n",
    "    cur_gdf = gdf[gdf[\"STATE\"]==cur_state].reset_index().drop(\"index\", axis=1)\n",
    "    for cutoff in np.arange(0.5, 1.0, 0.1):\n",
    "        print(cutoff)\n",
    "        for i in range(len(cur_df)):\n",
    "            if difflib.get_close_matches(cur_df.loc[i, \"City\"], cur_gdf[\"NAME\"], n=1, cutoff=cutoff)==[]:\n",
    "                print(cur_df.loc[i, \"City\"])\n",
    "        print()"
   ]
  },
  {
   "cell_type": "code",
   "execution_count": null,
   "id": "4c3a8196",
   "metadata": {
    "ExecuteTime": {
     "end_time": "2024-02-09T18:33:32.620736Z",
     "start_time": "2024-02-09T18:33:32.620736Z"
    }
   },
   "outputs": [],
   "source": [
    "cur_state = \"DELAWARE\"\n",
    "cur_year = 2010\n",
    "cur_df = df[(df[\"State\"]==cur_state) & (df[\"Year\"]==cur_year)]\n",
    "\n",
    "# abbrv_dict = abbrv.set_index(\"State\").to_dict()[\"Abbrv\"]\n",
    "\n",
    "# tail = cur_df[\"State\"].apply(lambda x: \", \" + abbrv_dict[x])\n",
    "# cur_df[\"City\"] = cur_df[\"City\"] + tail\n",
    "\n",
    "cur_gjs = json.load(open(\"de.json\", \"r\"))\n",
    "area_id_map = {}\n",
    "for city in cur_gjs[\"features\"]:\n",
    "    city[\"id\"] = int(city[\"properties\"][\"GEOID\"])\n",
    "    area_id_map[city[\"properties\"][\"NAME\"].title()] = city[\"id\"]\n",
    "\n",
    "cur_df[\"id\"] = cur_df[\"City\"].apply(lambda x: area_id_map[x])"
   ]
  },
  {
   "cell_type": "code",
   "execution_count": null,
   "id": "2b8c2c79",
   "metadata": {
    "ExecuteTime": {
     "end_time": "2024-02-09T18:33:32.621734Z",
     "start_time": "2024-02-09T18:33:32.621734Z"
    }
   },
   "outputs": [],
   "source": [
    "fig = px.choropleth_mapbox(cur_df,\n",
    "                          locations=\"id\",\n",
    "                          geojson = cur_gjs,\n",
    "                          color=\"Violent_crime\",\n",
    "                          mapbox_style=\"stamen-toner\",\n",
    "                          center={\"lat\": 39.5, \"lon\": -98},\n",
    "                          zoom=3)\n",
    "fig.show()"
   ]
  }
 ],
 "metadata": {
  "kernelspec": {
   "display_name": "Python 3 (ipykernel)",
   "language": "python",
   "name": "python3"
  },
  "language_info": {
   "codemirror_mode": {
    "name": "ipython",
    "version": 3
   },
   "file_extension": ".py",
   "mimetype": "text/x-python",
   "name": "python",
   "nbconvert_exporter": "python",
   "pygments_lexer": "ipython3",
   "version": "3.9.7"
  },
  "toc": {
   "base_numbering": 1,
   "nav_menu": {},
   "number_sections": true,
   "sideBar": true,
   "skip_h1_title": false,
   "title_cell": "Table of Contents",
   "title_sidebar": "Contents",
   "toc_cell": false,
   "toc_position": {},
   "toc_section_display": true,
   "toc_window_display": false
  }
 },
 "nbformat": 4,
 "nbformat_minor": 5
}
